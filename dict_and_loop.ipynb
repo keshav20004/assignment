{
 "cells": [
  {
   "cell_type": "code",
   "execution_count": 27,
   "id": "41c7a375-e0e0-48c2-bbda-a9a48a8cd6b5",
   "metadata": {},
   "outputs": [
    {
     "name": "stdin",
     "output_type": "stream",
     "text": [
      "enter your marks 643\n"
     ]
    },
    {
     "name": "stdout",
     "output_type": "stream",
     "text": [
      "you will be a part of Ao batch\n"
     ]
    }
   ],
   "source": [
    "marks=int (input(\"enter your marks\"))\n",
    "if marks>=80:\n",
    "    print(\"you will be a part of Ao batch\")\n",
    "elif marks>=60 and marks<80:\n",
    "     print(\"you will be a part of A1 batch\");\n",
    "elif marks>=40 and marks<60:\n",
    "    print(\"you will be a part of A2 batch\")\n",
    "else:\n",
    "   print(\"you will be a part of A3 batch\")\n"
   ]
  },
  {
   "cell_type": "code",
   "execution_count": null,
   "id": "5eabc011-23e4-4364-9992-11ca22278b12",
   "metadata": {},
   "outputs": [],
   "source": []
  },
  {
   "cell_type": "code",
   "execution_count": 32,
   "id": "a17c024a-1d10-47f4-b426-55e96bc5e624",
   "metadata": {},
   "outputs": [
    {
     "name": "stdin",
     "output_type": "stream",
     "text": [
      "Enter price:  6343\n"
     ]
    },
    {
     "name": "stdout",
     "output_type": "stream",
     "text": [
      "I will not purchase.\n"
     ]
    }
   ],
   "source": [
    "price = int(input(\"Enter price: \"))\n",
    "if price > 1000:\n",
    "    print(\"I will not purchase.\")\n",
    "elif price<2000 :\n",
    "        print(\"its ook\")\n",
    "else:\n",
    "    print(\"I will purchase.\")\n",
    "    \n"
   ]
  },
  {
   "cell_type": "code",
   "execution_count": 35,
   "id": "84fc4f07-bce6-4629-889b-a9ef8342e124",
   "metadata": {},
   "outputs": [
    {
     "name": "stdin",
     "output_type": "stream",
     "text": [
      "Enter price:  5612134\n"
     ]
    },
    {
     "name": "stdout",
     "output_type": "stream",
     "text": [
      "I will not purchase.\n"
     ]
    }
   ],
   "source": [
    "price = int(input(\"Enter price: \"))\n",
    "if price > 1000:\n",
    "    print(\"I will not purchase.\")\n",
    "elif price < 2000:\n",
    "    print(\"It's ok\")\n",
    "else:\n",
    "    print(\"I will purchase.\")\n"
   ]
  },
  {
   "cell_type": "code",
   "execution_count": 1,
   "id": "6b3bcf5d-8a59-48d6-a6dc-22239f351675",
   "metadata": {},
   "outputs": [],
   "source": [
    "l=[1,2,3,4,5,6,7,8]"
   ]
  },
  {
   "cell_type": "code",
   "execution_count": 9,
   "id": "f2d81ffd-1311-4fd8-afa8-b011d5975d5c",
   "metadata": {},
   "outputs": [
    {
     "name": "stdout",
     "output_type": "stream",
     "text": [
      "2\n",
      "3\n",
      "4\n",
      "5\n",
      "6\n",
      "7\n",
      "8\n",
      "9\n"
     ]
    }
   ],
   "source": [
    "l1=[]\n",
    "for i in l:\n",
    "    print(i+1)\n",
    "    l1.append(i+1)\n",
    "    l1"
   ]
  },
  {
   "cell_type": "code",
   "execution_count": 10,
   "id": "92080c4b-b174-40ca-b843-ca650ecff9ef",
   "metadata": {},
   "outputs": [
    {
     "data": {
      "text/plain": [
       "[1, 2, 3, 4, 5, 6, 7, 8]"
      ]
     },
     "execution_count": 10,
     "metadata": {},
     "output_type": "execute_result"
    }
   ],
   "source": [
    "l"
   ]
  },
  {
   "cell_type": "code",
   "execution_count": 11,
   "id": "9fe83061-3cb5-49c1-a477-9a2fe8f30e3b",
   "metadata": {},
   "outputs": [
    {
     "data": {
      "text/plain": [
       "[2, 3, 4, 5, 6, 7, 8, 9]"
      ]
     },
     "execution_count": 11,
     "metadata": {},
     "output_type": "execute_result"
    }
   ],
   "source": [
    "l1"
   ]
  },
  {
   "cell_type": "code",
   "execution_count": 13,
   "id": "0dc5cc59-14ee-4a2f-b140-33e748759504",
   "metadata": {},
   "outputs": [],
   "source": [
    "l=[\"kesh\",\"bajpai\",\"pwskills\",\"course\"]"
   ]
  },
  {
   "cell_type": "code",
   "execution_count": 15,
   "id": "14d31393-3f8b-44d0-88d0-ea534b79642a",
   "metadata": {},
   "outputs": [
    {
     "name": "stdout",
     "output_type": "stream",
     "text": [
      "kesh\n",
      "bajpai\n",
      "pwskills\n",
      "course\n"
     ]
    }
   ],
   "source": [
    "l1=[]\n",
    "for i in l:\n",
    "    print(i)\n",
    "    l1.append(i.upper())"
   ]
  },
  {
   "cell_type": "code",
   "execution_count": 16,
   "id": "a96414bf-4e1b-46f8-8aa5-a5dcbdde0cbb",
   "metadata": {},
   "outputs": [
    {
     "data": {
      "text/plain": [
       "['KESH', 'BAJPAI', 'PWSKILLS', 'COURSE']"
      ]
     },
     "execution_count": 16,
     "metadata": {},
     "output_type": "execute_result"
    }
   ],
   "source": [
    "l1"
   ]
  },
  {
   "cell_type": "code",
   "execution_count": 5,
   "id": "3c767a07-6544-4bb8-bb1a-1c82132ddf3e",
   "metadata": {},
   "outputs": [],
   "source": [
    "l=[1,2,3,4,5,\"kesh\",\"bajpai\",324,243.23,\"abc\"]"
   ]
  },
  {
   "cell_type": "code",
   "execution_count": null,
   "id": "f5829aa5-68e4-41c7-9bbc-629df2d947c9",
   "metadata": {},
   "outputs": [],
   "source": []
  },
  {
   "cell_type": "code",
   "execution_count": 6,
   "id": "f857d47f-4560-4f9f-b4b8-850feaa4479c",
   "metadata": {},
   "outputs": [],
   "source": [
    "l1 = []\n",
    "l2 = []\n",
    "for i in l:\n",
    "    if type(i) == int or type(i) == float:\n",
    "        l1.append(i)\n",
    "    else:\n",
    "            l2.append(i)"
   ]
  },
  {
   "cell_type": "code",
   "execution_count": 7,
   "id": "9fb25f6d-6407-4456-a0ac-2feaf8d7ba7d",
   "metadata": {},
   "outputs": [
    {
     "data": {
      "text/plain": [
       "[1, 2, 3, 4, 5, 324, 243.23]"
      ]
     },
     "execution_count": 7,
     "metadata": {},
     "output_type": "execute_result"
    }
   ],
   "source": [
    "l1"
   ]
  },
  {
   "cell_type": "code",
   "execution_count": 8,
   "id": "f37bc4ba-d958-49c4-8f62-ea3c7c9b56ec",
   "metadata": {},
   "outputs": [
    {
     "data": {
      "text/plain": [
       "['kesh', 'bajpai', 'abc']"
      ]
     },
     "execution_count": 8,
     "metadata": {},
     "output_type": "execute_result"
    }
   ],
   "source": [
    "l2"
   ]
  },
  {
   "cell_type": "code",
   "execution_count": null,
   "id": "58d41e2e-ba24-4850-83c1-f69e110d79b6",
   "metadata": {},
   "outputs": [],
   "source": []
  }
 ],
 "metadata": {
  "kernelspec": {
   "display_name": "Python 3 (ipykernel)",
   "language": "python",
   "name": "python3"
  },
  "language_info": {
   "codemirror_mode": {
    "name": "ipython",
    "version": 3
   },
   "file_extension": ".py",
   "mimetype": "text/x-python",
   "name": "python",
   "nbconvert_exporter": "python",
   "pygments_lexer": "ipython3",
   "version": "3.10.8"
  }
 },
 "nbformat": 4,
 "nbformat_minor": 5
}
